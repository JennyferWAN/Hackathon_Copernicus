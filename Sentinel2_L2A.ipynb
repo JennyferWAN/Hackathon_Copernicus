{
 "cells": [
  {
   "cell_type": "markdown",
   "id": "4d897c78-13e1-4c11-bb91-3057a5b6e458",
   "metadata": {},
   "source": [
    "## Librairies"
   ]
  },
  {
   "cell_type": "code",
   "execution_count": null,
   "id": "e238e821-d2e5-498a-93f7-5b5800e278ea",
   "metadata": {},
   "outputs": [],
   "source": [
    "import getpass\n",
    "import matplotlib.pyplot as plt\n",
    "import numpy as np\n",
    "import datetime\n",
    "import pandas as pd\n",
    "from sklearn.cluster import KMeans\n",
    "import matplotlib as mpl\n",
    "from utils import plot_image\n",
    "\n",
    "from sentinelhub import (\n",
    "    SHConfig,\n",
    "    CRS,\n",
    "    BBox,\n",
    "    DataCollection,\n",
    "    DownloadRequest,\n",
    "    MimeType,\n",
    "    MosaickingOrder,\n",
    "    SentinelHubDownloadClient,\n",
    "    SentinelHubStatisticalDownloadClient,\n",
    "    SentinelHubRequest,\n",
    "    bbox_to_dimensions,\n",
    "    SentinelHubStatistical,\n",
    "    Geometry,\n",
    "    parse_time,\n",
    ")"
   ]
  },
  {
   "cell_type": "markdown",
   "id": "56a3c7ff-8374-41e4-8c75-5c9ab42ea348",
   "metadata": {},
   "source": [
    "## Accès"
   ]
  },
  {
   "cell_type": "code",
   "execution_count": null,
   "id": "e7777005-e7e6-4210-a850-544cad306288",
   "metadata": {},
   "outputs": [],
   "source": [
    "# OAuth ID : sh-642fc01d-e2be-4009-9217-2858c30a82e5\n",
    "# OAuth Secret : AIr9YI3AlVRw2Gt8771iF7DqMRYUhX4I"
   ]
  },
  {
   "cell_type": "markdown",
   "id": "2c872707-b7b9-4eb1-b3f9-f8b8b8970ff5",
   "metadata": {},
   "source": [
    "## Configuration"
   ]
  },
  {
   "cell_type": "code",
   "execution_count": null,
   "id": "48505bd0-5782-4ce2-99a2-2344bd4c9488",
   "metadata": {},
   "outputs": [],
   "source": [
    "# Only run this cell if you have not created a configuration.\n",
    "\n",
    "config = SHConfig()\n",
    "config.sh_client_id = getpass.getpass(\"Enter your SentinelHub client id\")\n",
    "config.sh_client_secret = getpass.getpass(\"Enter your SentinelHub client secret\")\n",
    "config.sh_token_url = \"https://identity.dataspace.copernicus.eu/auth/realms/CDSE/protocol/openid-connect/token\"\n",
    "config.sh_base_url = \"https://sh.dataspace.copernicus.eu\"\n",
    "#config.sh_base_url = \"https://dataspace.copernicus.eu/browser/?zoom=10&lat=21.18697&lng=-98.12645&themeId=DEFAULT-THEME&visualizationUrl=https%3A%2F%2Fsh.dataspace.copernicus.eu%2Fogc%2Fwms%2Fa91f72b5-f393-4320-bc0f-990129bd9e63&datasetId=S2_L2A_CDAS&fromTime=2023-09-03T00%3A00%3A00.000Z&toTime=2023-09-03T23%3A59%3A59.999Z&layerId=3_NDVI&demSource3D=%22MAPZEN%22&cloudCoverage=30\"\n",
    "config.save(\"hackathon_arbres\")"
   ]
  },
  {
   "cell_type": "markdown",
   "id": "c2d17d4a-2bab-4be3-942a-a66ea5298351",
   "metadata": {},
   "source": [
    "## Coordonnées de la zone"
   ]
  },
  {
   "cell_type": "code",
   "execution_count": null,
   "id": "e395514b-7daf-44c4-a1fa-1a0e19a74d36",
   "metadata": {},
   "outputs": [],
   "source": [
    "coordonnees5 = (-97.509730,20.867649,-97.326817,20.935804) # Zone Alamo Mexico \n",
    "coordonnees6 = (-97.509730,20.867649,-97.486817,20.885804) # zoom x1\n",
    "coordonnees7 = (-97.509730,20.867649,-97.496817,20.875804) # zoom x2\n",
    "coordonnees8 = (-82.456154,27.676055,-82.443302,27.665115) # Zone Ruskin Florida\n",
    "coordonnees9 = (-82.471119,27.684740,-82.440068,27.658626) # Zone Finale"
   ]
  },
  {
   "cell_type": "markdown",
   "id": "38089b53-cd66-4eb5-a002-d7f42ea045f9",
   "metadata": {},
   "source": [
    "## Paramètres Images"
   ]
  },
  {
   "cell_type": "code",
   "execution_count": null,
   "id": "81863bd7-1af4-4c97-bc1f-880dbf2f5da8",
   "metadata": {},
   "outputs": [],
   "source": [
    "resolution = 10\n",
    "\n",
    "zone_bbox = BBox(bbox=coordonnees9, crs=CRS.WGS84)\n",
    "zone_size = bbox_to_dimensions(zone_bbox, resolution=resolution)\n",
    "\n",
    "print(f\"Image shape at {resolution} m resolution: {zone_size} pixels\")"
   ]
  },
  {
   "cell_type": "markdown",
   "id": "f33ac640-4e71-4310-b957-41c0bc251cd4",
   "metadata": {},
   "source": [
    "## Génération de dates selon un Intervalle et le nombre d'Images"
   ]
  },
  {
   "cell_type": "code",
   "execution_count": null,
   "id": "c12a3cdd-50f1-48d6-ada8-a3d062ac62e6",
   "metadata": {},
   "outputs": [],
   "source": [
    "start = datetime.datetime(2023, 1, 1)\n",
    "end = datetime.datetime(2023, 12, 31)\n",
    "n_chunks = 13\n",
    "tdelta = (end - start) / n_chunks\n",
    "edges = [(start + i * tdelta).date().isoformat() for i in range(n_chunks)]\n",
    "slots = [(edges[i], edges[i + 1]) for i in range(len(edges) - 1)]\n",
    "\n",
    "print(\"Monthly time windows:\\n\")\n",
    "for slot in slots:\n",
    "    print(slot)\n",
    "print(f'On a {len(slots)} images')"
   ]
  },
  {
   "cell_type": "markdown",
   "id": "1bbf6907-49af-445c-a213-6b3edb541bce",
   "metadata": {},
   "source": [
    "## Configuration des Composantes Couleur"
   ]
  },
  {
   "cell_type": "code",
   "execution_count": null,
   "id": "d27349de-eda2-4e81-87c5-6d2f2d908883",
   "metadata": {},
   "outputs": [],
   "source": [
    "evalscript_true_color = \"\"\"\n",
    "    //VERSION=3\n",
    "\n",
    "    function setup() {\n",
    "        return {\n",
    "            input: [{\n",
    "                bands: [\"B02\", \"B03\", \"B04\"]\n",
    "            }],\n",
    "            output: {\n",
    "                bands: 3\n",
    "            }\n",
    "        };\n",
    "    }\n",
    "\n",
    "    function evaluatePixel(sample) {\n",
    "        return [sample.B04, sample.B03, sample.B02];\n",
    "    }\n",
    "\"\"\"\n",
    "\n",
    "evalscript_true_color_ndwi = \"\"\"\n",
    "    //VERSION=3\n",
    "\n",
    "    function setup() {\n",
    "        return {\n",
    "            input: [{\n",
    "                bands: [\"B03\", \"B08\"]\n",
    "            }],\n",
    "            output: {\n",
    "                bands: 2\n",
    "            }\n",
    "        };\n",
    "    }\n",
    "\n",
    "    function evaluatePixel(sample) {\n",
    "        return [sample.B03, sample.B08];\n",
    "    }\n",
    "\"\"\"\n",
    "\n",
    "evalscript_true_color_ndvi = \"\"\"\n",
    "    //VERSION=3\n",
    "\n",
    "    function setup() {\n",
    "        return {\n",
    "            input: [{\n",
    "                bands: [\"B04\", \"B08\"]\n",
    "            }],\n",
    "            output: {\n",
    "                bands: 2\n",
    "            }\n",
    "        };\n",
    "    }\n",
    "\n",
    "    function evaluatePixel(sample) {\n",
    "        return [sample.B04, sample.B08];\n",
    "    }\n",
    "\"\"\""
   ]
  },
  {
   "cell_type": "markdown",
   "id": "8f1bd4b5-2538-4055-9715-df254442f997",
   "metadata": {},
   "source": [
    "## Fonction pour demander les images du Serveur Copernicus"
   ]
  },
  {
   "cell_type": "code",
   "execution_count": null,
   "id": "7c4f8411-37b0-4bbb-8eff-3c98a49def72",
   "metadata": {},
   "outputs": [],
   "source": [
    "def get_true_color_request(time_interval):\n",
    "    return SentinelHubRequest(\n",
    "        evalscript=evalscript_true_color,\n",
    "        input_data=[\n",
    "            SentinelHubRequest.input_data(\n",
    "                data_collection=DataCollection.SENTINEL2_L2A.define_from(\n",
    "                    \"s2l2a-bis\", service_url=config.sh_base_url\n",
    "                ),\n",
    "                time_interval=time_interval,\n",
    "                mosaicking_order=MosaickingOrder.LEAST_CC,\n",
    "            )\n",
    "        ],\n",
    "        responses=[SentinelHubRequest.output_response(\"default\", MimeType.PNG)],\n",
    "        bbox=zone_bbox,\n",
    "        size=zone_size,\n",
    "        config=config,\n",
    "    )"
   ]
  },
  {
   "cell_type": "markdown",
   "id": "be6a2068-306b-4350-aedd-d72145eb3433",
   "metadata": {},
   "source": [
    "## Telechargement des données"
   ]
  },
  {
   "cell_type": "code",
   "execution_count": null,
   "id": "5e93aa85-0e94-4591-82ed-a2aff341dc8e",
   "metadata": {},
   "outputs": [],
   "source": [
    "# create a list of requests\n",
    "list_of_requests = [get_true_color_request(slot) for slot in slots]\n",
    "list_of_requests = [request.download_list[0] for request in list_of_requests]\n",
    "\n",
    "# download data with multiple threads\n",
    "data = SentinelHubDownloadClient(config=config).download(list_of_requests, max_threads=5)"
   ]
  },
  {
   "cell_type": "markdown",
   "id": "dd835d12-1572-4823-99e7-cb12a45a0aba",
   "metadata": {},
   "source": [
    "## Affichage des Images en True Color"
   ]
  },
  {
   "cell_type": "code",
   "execution_count": null,
   "id": "7d5d53f5-f9c0-4f67-a7bd-c886ae10d491",
   "metadata": {},
   "outputs": [],
   "source": [
    "# some stuff for pretty plots\n",
    "ncols = 2\n",
    "nrows = 6\n",
    "aspect_ratio = zone_size[0] / zone_size[1]\n",
    "subplot_kw = {\"xticks\": [], \"yticks\": [], \"frame_on\": False}\n",
    "\n",
    "fig, axs = plt.subplots(ncols=ncols, nrows=nrows, figsize=(5 * ncols * aspect_ratio, 5 * nrows), subplot_kw=subplot_kw, squeeze=False)\n",
    "\n",
    "for idx, image in enumerate(data):\n",
    "    ax = axs[idx // ncols][idx % ncols]\n",
    "    ax.imshow(np.clip(image * 2.5 / 255, 0, 1))\n",
    "    ax.set_title(f\"{slots[idx][0]}  -  {slots[idx][1]}\", fontsize=10)\n",
    "\n",
    "plt.tight_layout()"
   ]
  },
  {
   "cell_type": "markdown",
   "id": "8ae5a416-ae5c-4b4c-ac18-627d3dd0873b",
   "metadata": {},
   "source": [
    "## Affichage NDWI"
   ]
  },
  {
   "cell_type": "code",
   "execution_count": null,
   "id": "208e3a39-fe90-4e68-a450-fbc165567811",
   "metadata": {},
   "outputs": [],
   "source": [
    "ncols = 2\n",
    "nrows = 6\n",
    "aspect_ratio = zone_size[0] / zone_size[1]\n",
    "subplot_kw = {\"xticks\": [], \"yticks\": [], \"frame_on\": False}\n",
    "\n",
    "fig, axs = plt.subplots(ncols=ncols, nrows=nrows, figsize=(5 * ncols * aspect_ratio, 5 * nrows), subplot_kw=subplot_kw, squeeze=False)\n",
    "\n",
    "for idx, image in enumerate(data):\n",
    "    # Calculate NDWI for each image\n",
    "    def calculate_ndwi(image):\n",
    "        green = image[:, :, 0].astype(float)  # Green channel\n",
    "        nir = image[:, :, 1].astype(float)  # Nir channel\n",
    "\n",
    "        # Calculate a \"fake\" NDVI for RGB images\n",
    "        ndwi = (green - nir) / (green + nir)\n",
    "        return ndwi\n",
    "\n",
    "    ndwi = calculate_ndwi(image)\n",
    "\n",
    "    # Display the NDWI map in a subplot\n",
    "    ax = axs[idx // ncols][idx % ncols]\n",
    "    im = ax.imshow(ndwi, cmap='RdYlGn', vmin=-1, vmax=1)  # Adjust the colormap as needed\n",
    "    ax.set_title(f\"{slots[idx][0]}  -  {slots[idx][1]}\", fontsize=10)\n",
    "\n",
    "#Add colorbar for the entire figure\n",
    "cax = fig.add_axes([0.95, 0.15, 0.02, 0.7])  # Adjust position as needed\n",
    "cax.get_xaxis().set_visible(False)\n",
    "cax.get_yaxis().set_ticks([])\n",
    "cax.get_yaxis().labelpad = 15\n",
    "cax.set_ylabel('NDWI', rotation=90)\n",
    "\n",
    "plt.colorbar(im, cax=cax, orientation='vertical')\n",
    "\n",
    "plt.tight_layout()\n",
    "plt.show()"
   ]
  },
  {
   "cell_type": "markdown",
   "id": "3993d0df-a4e8-48c8-9401-3d78906b4c04",
   "metadata": {},
   "source": [
    "## Affichage NDVI"
   ]
  },
  {
   "cell_type": "code",
   "execution_count": null,
   "id": "d2ff450a-2427-42d3-b249-aac2b60dd982",
   "metadata": {
    "scrolled": true
   },
   "outputs": [],
   "source": [
    "ncols = 2\n",
    "nrows = 6\n",
    "aspect_ratio = zone_size[0] / zone_size[1]\n",
    "subplot_kw = {\"xticks\": [], \"yticks\": [], \"frame_on\": False}\n",
    "\n",
    "fig, axs = plt.subplots(ncols=ncols, nrows=nrows, figsize=(5 * ncols * aspect_ratio, 5 * nrows), subplot_kw=subplot_kw, squeeze=False)\n",
    "\n",
    "for idx, image in enumerate(data):\n",
    "    # Calculate NDVI for each image\n",
    "    def calculate_ndvi(image):\n",
    "        red = image[:, :, 0].astype(float)  # Red channel\n",
    "        nir = image[:, :, 1].astype(float)  # Nir channel\n",
    "\n",
    "        # Calculate a \"fake\" NDVI for RGB images\n",
    "        ndvi = (nir - red) / (nir + red)\n",
    "        return ndvi\n",
    "\n",
    "    ndvi = calculate_ndvi(image)\n",
    "\n",
    "    # Display the NDvI map in a subplot\n",
    "    ax = axs[idx // ncols][idx % ncols]\n",
    "    im = ax.imshow(ndvi, cmap='RdYlGn', vmin=-1, vmax=1)  # Adjust the colormap as needed\n",
    "    ax.set_title(f\"{slots[idx][0]}  -  {slots[idx][1]}\", fontsize=10)\n",
    "\n",
    "#Add colorbar for the entire figure\n",
    "cax = fig.add_axes([0.95, 0.15, 0.02, 0.7])  # Adjust position as needed\n",
    "cax.get_xaxis().set_visible(False)\n",
    "cax.get_yaxis().set_ticks([])\n",
    "cax.get_yaxis().labelpad = 15\n",
    "cax.set_ylabel('NDVI', rotation=90)\n",
    "\n",
    "plt.colorbar(im, cax=cax, orientation='vertical')\n",
    "\n",
    "plt.tight_layout()\n",
    "plt.show()"
   ]
  },
  {
   "cell_type": "markdown",
   "id": "20b13271-9ea4-443f-9508-f80106aae08f",
   "metadata": {},
   "source": [
    "## Insertion data dans Dataframe"
   ]
  },
  {
   "cell_type": "code",
   "execution_count": null,
   "id": "903188e5-3c1f-404b-b1c0-0c51c20ed62e",
   "metadata": {},
   "outputs": [],
   "source": [
    "# Convertissez chaque image en une séquence unidimensionnelle pour chaque ligne du DataFrame\n",
    "data_df = [image.flatten() for image in data]\n",
    "\n",
    "# Créez un DataFrame à partir des données\n",
    "df = pd.DataFrame(data_df)\n",
    "\n",
    "# Affichez le DataFrame\n",
    "print(df)"
   ]
  },
  {
   "cell_type": "markdown",
   "id": "2f718cbf-abb0-479d-b0c8-f42fbb98af1f",
   "metadata": {},
   "source": [
    "## Application KMeans"
   ]
  },
  {
   "cell_type": "code",
   "execution_count": null,
   "id": "f8295bb3-486e-41c0-abbc-d3151e25d867",
   "metadata": {},
   "outputs": [],
   "source": [
    "wcss = []\n",
    "for i in range(1, 11):\n",
    "    kmeans = KMeans(n_clusters=i, init='k-means++', max_iter=300, n_init=10, random_state=0)\n",
    "    kmeans.fit(df)\n",
    "    wcss.append(kmeans.inertia_)\n",
    "\n",
    "# Tracez le coude\n",
    "plt.plot(range(1, 11), wcss)\n",
    "plt.title('Méthode du Coude')\n",
    "plt.xlabel('Nombre de clusters')\n",
    "plt.ylabel('WCSS')  # Within-Cluster Sum of Squares\n",
    "plt.show()"
   ]
  },
  {
   "cell_type": "markdown",
   "id": "e0ca4c01-1419-464f-aae0-633848925e35",
   "metadata": {},
   "source": [
    "# Segmentation"
   ]
  },
  {
   "cell_type": "code",
   "execution_count": null,
   "id": "a32af1ae-eb02-4c28-985c-7055ea3c7cff",
   "metadata": {
    "scrolled": true
   },
   "outputs": [],
   "source": [
    "# CLUSTER 2\n",
    "# Prétraitement de l'image\n",
    "image = np.clip(data[4] * 2.5 / 255, 0, 1)\n",
    "X = image.reshape((-1, 3))\n",
    "\n",
    "# Utilisation de K-means\n",
    "k_means = KMeans(n_clusters=2, random_state=42)\n",
    "k_means.fit(X)\n",
    "\n",
    "# Obtenir les labels et remodeler\n",
    "X_cluster = k_means.labels_\n",
    "X_cluster = X_cluster.reshape(image.shape[0], image.shape[1])\n",
    "\n",
    "# Affichage de l'image originale et de l'image segmentée\n",
    "plt.figure(figsize=(10, 5))\n",
    "\n",
    "plt.subplot(1, 2, 1)\n",
    "plt.imshow(image)\n",
    "plt.title(\"Image Originale\")\n",
    "\n",
    "plt.subplot(1, 2, 2)\n",
    "plt.imshow(X_cluster, cmap=\"viridis\")\n",
    "plt.title(\"Image Segmentée\")\n",
    "\n",
    "plt.show()"
   ]
  },
  {
   "cell_type": "code",
   "execution_count": null,
   "id": "413c28be-263e-499d-8950-36df5267be36",
   "metadata": {
    "scrolled": true
   },
   "outputs": [],
   "source": [
    "# CLUSTER 4\n",
    "# Prétraitement de l'image\n",
    "image = np.clip(data[4] * 2.5 / 255, 0, 1)\n",
    "X = image.reshape((-1, 3))\n",
    "\n",
    "# Utilisation de K-means avec 4 clusters\n",
    "k_means = KMeans(n_clusters=4, random_state=42)\n",
    "k_means.fit(X)\n",
    "\n",
    "# Obtenir les labels et remodeler\n",
    "X_cluster = k_means.labels_\n",
    "X_cluster = X_cluster.reshape(image.shape[0], image.shape[1])\n",
    "\n",
    "# Affichage de l'image originale et de l'image segmentée\n",
    "plt.figure(figsize=(10, 5))\n",
    "\n",
    "plt.subplot(1, 2, 1)\n",
    "plt.imshow(image)\n",
    "plt.title(\"Image Originale\")\n",
    "\n",
    "plt.subplot(1, 2, 2)\n",
    "plt.imshow(X_cluster, cmap=\"viridis\")\n",
    "plt.title(\"Image Segmentée avec 4 Clusters\")\n",
    "\n",
    "plt.show()"
   ]
  },
  {
   "cell_type": "code",
   "execution_count": null,
   "id": "45fb7268-3feb-481d-b7ba-f74f2bfe74ab",
   "metadata": {
    "scrolled": true
   },
   "outputs": [],
   "source": [
    "# CLUSTER 10\n",
    "# Prétraitement de l'image\n",
    "image = np.clip(data[4] * 2.5 / 255, 0, 1)\n",
    "X = image.reshape((-1, 3))\n",
    "\n",
    "# Utilisation de K-means avec 10 clusters\n",
    "k_means = KMeans(n_clusters=10, random_state=42)\n",
    "k_means.fit(X)\n",
    "\n",
    "# Obtenir les labels et remodeler\n",
    "X_cluster = k_means.labels_\n",
    "X_cluster = X_cluster.reshape(image.shape[0], image.shape[1])\n",
    "\n",
    "# Affichage de l'image originale et de l'image segmentée\n",
    "plt.figure(figsize=(10, 5))\n",
    "\n",
    "plt.subplot(1, 2, 1)\n",
    "plt.imshow(image)\n",
    "plt.title(\"Image Originale\")\n",
    "\n",
    "plt.subplot(1, 2, 2)\n",
    "plt.imshow(X_cluster, cmap=\"viridis\")\n",
    "plt.title(\"Image Segmentée avec 10 Clusters\")\n",
    "\n",
    "plt.show()"
   ]
  },
  {
   "cell_type": "code",
   "execution_count": null,
   "id": "eaec9b05-bdac-4559-90c4-f39a264e469d",
   "metadata": {},
   "outputs": [],
   "source": [
    "# Image 1\n",
    "# Prétraitement de l'image\n",
    "image = np.clip(data[1] * 2.5 / 255, 0, 1)\n",
    "X = image.reshape((-1, 3))\n",
    "\n",
    "# Utilisation de K-means avec 5 clusters\n",
    "k_means = KMeans(n_clusters=5, random_state=42)\n",
    "k_means.fit(X)\n",
    "\n",
    "# Obtenir les labels et remodeler\n",
    "X_cluster = k_means.labels_\n",
    "X_cluster = X_cluster.reshape(image.shape[0], image.shape[1])\n",
    "\n",
    "# Affichage de l'image originale et de l'image segmentée\n",
    "plt.figure(figsize=(10, 5))\n",
    "\n",
    "plt.subplot(1, 2, 1)\n",
    "plt.imshow(image)\n",
    "plt.title(\"Image Originale\")\n",
    "\n",
    "plt.subplot(1, 2, 2)\n",
    "plt.imshow(X_cluster, cmap=\"viridis\")\n",
    "plt.title(\"Image Segmentée avec 5 Clusters\")\n",
    "\n",
    "plt.show()"
   ]
  },
  {
   "cell_type": "code",
   "execution_count": null,
   "id": "ee000149-0d18-4a0f-9f68-8f37c4c579f6",
   "metadata": {},
   "outputs": [],
   "source": [
    "# Image 3\n",
    "# Prétraitement de l'image\n",
    "image = np.clip(data[3] * 2.5 / 255, 0, 1)\n",
    "X = image.reshape((-1, 3))\n",
    "\n",
    "# Utilisation de K-means avec 5 clusters\n",
    "k_means = KMeans(n_clusters=5, random_state=42)\n",
    "k_means.fit(X)\n",
    "\n",
    "# Obtenir les labels et remodeler\n",
    "X_cluster = k_means.labels_\n",
    "X_cluster = X_cluster.reshape(image.shape[0], image.shape[1])\n",
    "\n",
    "# Affichage de l'image originale et de l'image segmentée\n",
    "plt.figure(figsize=(10, 5))\n",
    "\n",
    "plt.subplot(1, 2, 1)\n",
    "plt.imshow(image)\n",
    "plt.title(\"Image Originale\")\n",
    "\n",
    "plt.subplot(1, 2, 2)\n",
    "plt.imshow(X_cluster, cmap=\"viridis\")\n",
    "plt.title(\"Image Segmentée avec 5 Clusters\")\n",
    "\n",
    "plt.show()"
   ]
  },
  {
   "cell_type": "code",
   "execution_count": null,
   "id": "cfc7c0c7-f756-4420-9ac9-821150fb9e99",
   "metadata": {},
   "outputs": [],
   "source": [
    "# Image 4\n",
    "# Prétraitement de l'image\n",
    "image = np.clip(data[4] * 2.5 / 255, 0, 1)\n",
    "X = image.reshape((-1, 3))\n",
    "\n",
    "# Utilisation de K-means avec 5 clusters\n",
    "k_means = KMeans(n_clusters=5, random_state=42)\n",
    "k_means.fit(X)\n",
    "\n",
    "# Obtenir les labels et remodeler\n",
    "X_cluster = k_means.labels_\n",
    "X_cluster = X_cluster.reshape(image.shape[0], image.shape[1])\n",
    "\n",
    "# Affichage de l'image originale et de l'image segmentée\n",
    "plt.figure(figsize=(10, 5))\n",
    "\n",
    "plt.subplot(1, 2, 1)\n",
    "plt.imshow(image)\n",
    "plt.title(\"Image Originale\")\n",
    "\n",
    "plt.subplot(1, 2, 2)\n",
    "plt.imshow(X_cluster, cmap=\"viridis\")\n",
    "plt.title(\"Image Segmentée avec 5 Clusters\")\n",
    "\n",
    "plt.show()"
   ]
  },
  {
   "cell_type": "code",
   "execution_count": null,
   "id": "1fe77662-4a7d-4358-9027-d524bc5ca704",
   "metadata": {},
   "outputs": [],
   "source": [
    "# Image 5\n",
    "# Prétraitement de l'image\n",
    "image = np.clip(data[5] * 2.5 / 255, 0, 1)\n",
    "X = image.reshape((-1, 3))\n",
    "\n",
    "# Utilisation de K-means avec 5 clusters\n",
    "k_means = KMeans(n_clusters=5, random_state=42)\n",
    "k_means.fit(X)\n",
    "\n",
    "# Obtenir les labels et remodeler\n",
    "X_cluster = k_means.labels_\n",
    "X_cluster = X_cluster.reshape(image.shape[0], image.shape[1])\n",
    "\n",
    "# Affichage de l'image originale et de l'image segmentée\n",
    "plt.figure(figsize=(10, 5))\n",
    "\n",
    "plt.subplot(1, 2, 1)\n",
    "plt.imshow(image)\n",
    "plt.title(\"Image Originale\")\n",
    "\n",
    "plt.subplot(1, 2, 2)\n",
    "plt.imshow(X_cluster, cmap=\"viridis\")\n",
    "plt.title(\"Image Segmentée avec 5 Clusters\")\n",
    "\n",
    "plt.show()"
   ]
  },
  {
   "cell_type": "code",
   "execution_count": null,
   "id": "6d204af4-57a2-40f1-8858-bf91054a6001",
   "metadata": {},
   "outputs": [],
   "source": [
    "# Image 6\n",
    "# Prétraitement de l'image\n",
    "image = np.clip(data[6] * 2.5 / 255, 0, 1)\n",
    "X = image.reshape((-1, 3))\n",
    "\n",
    "# Utilisation de K-means avec 5 clusters\n",
    "k_means = KMeans(n_clusters=5, random_state=42)\n",
    "k_means.fit(X)\n",
    "\n",
    "# Obtenir les labels et remodeler\n",
    "X_cluster = k_means.labels_\n",
    "X_cluster = X_cluster.reshape(image.shape[0], image.shape[1])\n",
    "\n",
    "# Affichage de l'image originale et de l'image segmentée\n",
    "plt.figure(figsize=(10, 5))\n",
    "\n",
    "plt.subplot(1, 2, 1)\n",
    "plt.imshow(image)\n",
    "plt.title(\"Image Originale\")\n",
    "\n",
    "plt.subplot(1, 2, 2)\n",
    "plt.imshow(X_cluster, cmap=\"viridis\")\n",
    "plt.title(\"Image Segmentée avec 5 Clusters\")\n",
    "\n",
    "plt.show()"
   ]
  },
  {
   "cell_type": "code",
   "execution_count": null,
   "id": "0bf5561e-9e66-40a2-9608-727210ae6afe",
   "metadata": {},
   "outputs": [],
   "source": []
  }
 ],
 "metadata": {
  "kernelspec": {
   "display_name": "Sentinel Hub",
   "language": "python",
   "name": "sentinelhub"
  },
  "language_info": {
   "codemirror_mode": {
    "name": "ipython",
    "version": 3
   },
   "file_extension": ".py",
   "mimetype": "text/x-python",
   "name": "python",
   "nbconvert_exporter": "python",
   "pygments_lexer": "ipython3",
   "version": "3.10.12"
  }
 },
 "nbformat": 4,
 "nbformat_minor": 5
}
